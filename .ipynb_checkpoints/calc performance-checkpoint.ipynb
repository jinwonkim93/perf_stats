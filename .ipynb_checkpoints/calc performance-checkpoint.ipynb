{
 "cells": [
  {
   "cell_type": "code",
   "execution_count": 1,
   "id": "8084543e",
   "metadata": {},
   "outputs": [],
   "source": [
    "import logging\n",
    "\n"
   ]
  },
  {
   "cell_type": "code",
   "execution_count": 2,
   "id": "4d53a302",
   "metadata": {},
   "outputs": [],
   "source": [
    "class PerfLogger:\n",
    "    def __init__(self):\n",
    "        logging.basicConfig(level=logging.DEBUG)\n",
    "    \n",
    "    def get_logger(self, name=None):\n",
    "        logger = logging.getLogger(name)\n",
    "        formatter = logging.Formatter(u'%(asctime)s [%(levelname)8s] | %(message)s')\n",
    "        file_handler = logging.FileHandler('./logs/output.log')\n",
    "        file_handler.setFormatter(formatter)\n",
    "        logger.addHandler(file_handler)\n",
    "\n",
    "        return logger\n"
   ]
  },
  {
   "cell_type": "code",
   "execution_count": 9,
   "id": "356976be",
   "metadata": {},
   "outputs": [],
   "source": [
    "import functools\n",
    "import time\n",
    "from typing import Union\n",
    "\n",
    "def timer(func):\n",
    "    @functools.wraps(func) # 이 한 줄을 추가합니다\n",
    "    def wrapper(*args, **kwargs):\n",
    "        start = time.time()\n",
    "        ret = func(*args, **kwargs)\n",
    "        print('실행 완료! {0:.2f}초 걸림'.format(time.time() - start))\n",
    "        return ret\n",
    "    return wrapper\n",
    "\n",
    "def latency_checker(func):\n",
    "    @functools.wraps(func) # 이 한 줄을 추가합니다\n",
    "    def wrapper(*args, **kwargs):\n",
    "        start = time.time()\n",
    "        ret = func(*args, **kwargs)\n",
    "        total_time = time.time() - start\n",
    "        print('실행 완료! {0:.2f}초 걸림'.format(total_time))\n",
    "        return ret\n",
    "    return wrapper\n",
    "\n",
    "def get_default_logger():\n",
    "    return PerfLogger().get_logger()\n",
    "\n",
    "def log_latency_checker(_func=None, *, logger ):\n",
    "    def decorator_log(func):\n",
    "        @functools.wraps(func)\n",
    "        def wrapper(*args, **kwargs):         \n",
    "            start = time.time()\n",
    "            ret = func(*args, **kwargs)\n",
    "            total_time = time.time() - start\n",
    "            messege = f\"{total_time} s\"\n",
    "            logger.debug(messege)\n",
    "            return ret\n",
    "        return wrapper\n",
    "    if _func is None:\n",
    "        return decorator_log\n",
    "    else:\n",
    "        return decorator_log(_func)"
   ]
  },
  {
   "cell_type": "code",
   "execution_count": 9,
   "id": "99ba052a",
   "metadata": {},
   "outputs": [],
   "source": [
    "def process_data():\n",
    "    time.sleep(1)\n",
    "    print(\"process image!\")\n",
    "\n",
    "@timer\n",
    "def wrapped_process_data():\n",
    "    time.sleep(1)\n",
    "    print(\"process image!\")\n",
    "    \n",
    "@log_latency_checker(logger=PerfLogger().get_logger())\n",
    "def log_process_data():\n",
    "    time.sleep(1)\n",
    "    print(\"process image!\")"
   ]
  },
  {
   "cell_type": "code",
   "execution_count": 10,
   "id": "8de8bce1",
   "metadata": {},
   "outputs": [
    {
     "name": "stdout",
     "output_type": "stream",
     "text": [
      "process image!\n"
     ]
    }
   ],
   "source": [
    "process_data()"
   ]
  },
  {
   "cell_type": "code",
   "execution_count": 11,
   "id": "f5ff7974",
   "metadata": {},
   "outputs": [
    {
     "name": "stdout",
     "output_type": "stream",
     "text": [
      "process image!\n",
      "실행 완료! 1.00초 걸림\n"
     ]
    }
   ],
   "source": [
    "wrapped_process_data()"
   ]
  },
  {
   "cell_type": "code",
   "execution_count": 12,
   "id": "b3d80bf3",
   "metadata": {},
   "outputs": [
    {
     "name": "stderr",
     "output_type": "stream",
     "text": [
      "DEBUG:root:1.0012259483337402 s\n"
     ]
    },
    {
     "name": "stdout",
     "output_type": "stream",
     "text": [
      "process image!\n"
     ]
    }
   ],
   "source": [
    "log_process_data()"
   ]
  },
  {
   "cell_type": "code",
   "execution_count": null,
   "id": "0c17b0c0",
   "metadata": {},
   "outputs": [],
   "source": []
  }
 ],
 "metadata": {
  "kernelspec": {
   "display_name": "Python [conda env:root] *",
   "language": "python",
   "name": "conda-root-py"
  },
  "language_info": {
   "codemirror_mode": {
    "name": "ipython",
    "version": 3
   },
   "file_extension": ".py",
   "mimetype": "text/x-python",
   "name": "python",
   "nbconvert_exporter": "python",
   "pygments_lexer": "ipython3",
   "version": "3.8.5"
  }
 },
 "nbformat": 4,
 "nbformat_minor": 5
}
